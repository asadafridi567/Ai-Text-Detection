{
  "cells": [
    {
      "cell_type": "markdown",
      "metadata": {
        "id": "4DqyE5TCL5b9"
      },
      "source": [
        "## **HYBRID MODEL**"
      ]
    },
    {
      "cell_type": "code",
      "execution_count": null,
      "metadata": {
        "colab": {
          "base_uri": "https://localhost:8080/"
        },
        "id": "XLEv2wP1MFnI",
        "outputId": "e815cc49-4ce7-4ed1-e8ff-d997083fc047"
      },
      "outputs": [
        {
          "name": "stdout",
          "output_type": "stream",
          "text": [
            "Requirement already satisfied: transformers in /usr/local/lib/python3.11/dist-packages (4.53.1)\n",
            "Requirement already satisfied: textstat in /usr/local/lib/python3.11/dist-packages (0.7.7)\n",
            "Requirement already satisfied: nltk in /usr/local/lib/python3.11/dist-packages (3.9.1)\n",
            "Requirement already satisfied: pandas in /usr/local/lib/python3.11/dist-packages (2.2.2)\n",
            "Requirement already satisfied: scikit-learn in /usr/local/lib/python3.11/dist-packages (1.6.1)\n",
            "Requirement already satisfied: tqdm in /usr/local/lib/python3.11/dist-packages (4.67.1)\n",
            "Requirement already satisfied: filelock in /usr/local/lib/python3.11/dist-packages (from transformers) (3.18.0)\n",
            "Requirement already satisfied: huggingface-hub<1.0,>=0.30.0 in /usr/local/lib/python3.11/dist-packages (from transformers) (0.33.2)\n",
            "Requirement already satisfied: numpy>=1.17 in /usr/local/lib/python3.11/dist-packages (from transformers) (2.0.2)\n",
            "Requirement already satisfied: packaging>=20.0 in /usr/local/lib/python3.11/dist-packages (from transformers) (24.2)\n",
            "Requirement already satisfied: pyyaml>=5.1 in /usr/local/lib/python3.11/dist-packages (from transformers) (6.0.2)\n",
            "Requirement already satisfied: regex!=2019.12.17 in /usr/local/lib/python3.11/dist-packages (from transformers) (2024.11.6)\n",
            "Requirement already satisfied: requests in /usr/local/lib/python3.11/dist-packages (from transformers) (2.32.3)\n",
            "Requirement already satisfied: tokenizers<0.22,>=0.21 in /usr/local/lib/python3.11/dist-packages (from transformers) (0.21.2)\n",
            "Requirement already satisfied: safetensors>=0.4.3 in /usr/local/lib/python3.11/dist-packages (from transformers) (0.5.3)\n",
            "Requirement already satisfied: pyphen in /usr/local/lib/python3.11/dist-packages (from textstat) (0.17.2)\n",
            "Requirement already satisfied: cmudict in /usr/local/lib/python3.11/dist-packages (from textstat) (1.0.33)\n",
            "Requirement already satisfied: setuptools in /usr/local/lib/python3.11/dist-packages (from textstat) (75.2.0)\n",
            "Requirement already satisfied: click in /usr/local/lib/python3.11/dist-packages (from nltk) (8.2.1)\n",
            "Requirement already satisfied: joblib in /usr/local/lib/python3.11/dist-packages (from nltk) (1.5.1)\n",
            "Requirement already satisfied: python-dateutil>=2.8.2 in /usr/local/lib/python3.11/dist-packages (from pandas) (2.9.0.post0)\n",
            "Requirement already satisfied: pytz>=2020.1 in /usr/local/lib/python3.11/dist-packages (from pandas) (2025.2)\n",
            "Requirement already satisfied: tzdata>=2022.7 in /usr/local/lib/python3.11/dist-packages (from pandas) (2025.2)\n",
            "Requirement already satisfied: scipy>=1.6.0 in /usr/local/lib/python3.11/dist-packages (from scikit-learn) (1.15.3)\n",
            "Requirement already satisfied: threadpoolctl>=3.1.0 in /usr/local/lib/python3.11/dist-packages (from scikit-learn) (3.6.0)\n",
            "Requirement already satisfied: fsspec>=2023.5.0 in /usr/local/lib/python3.11/dist-packages (from huggingface-hub<1.0,>=0.30.0->transformers) (2025.3.2)\n",
            "Requirement already satisfied: typing-extensions>=3.7.4.3 in /usr/local/lib/python3.11/dist-packages (from huggingface-hub<1.0,>=0.30.0->transformers) (4.14.1)\n",
            "Requirement already satisfied: hf-xet<2.0.0,>=1.1.2 in /usr/local/lib/python3.11/dist-packages (from huggingface-hub<1.0,>=0.30.0->transformers) (1.1.5)\n",
            "Requirement already satisfied: six>=1.5 in /usr/local/lib/python3.11/dist-packages (from python-dateutil>=2.8.2->pandas) (1.17.0)\n",
            "Requirement already satisfied: importlib-metadata>=5 in /usr/local/lib/python3.11/dist-packages (from cmudict->textstat) (8.7.0)\n",
            "Requirement already satisfied: importlib-resources>=5 in /usr/local/lib/python3.11/dist-packages (from cmudict->textstat) (6.5.2)\n",
            "Requirement already satisfied: charset-normalizer<4,>=2 in /usr/local/lib/python3.11/dist-packages (from requests->transformers) (3.4.2)\n",
            "Requirement already satisfied: idna<4,>=2.5 in /usr/local/lib/python3.11/dist-packages (from requests->transformers) (3.10)\n",
            "Requirement already satisfied: urllib3<3,>=1.21.1 in /usr/local/lib/python3.11/dist-packages (from requests->transformers) (2.4.0)\n",
            "Requirement already satisfied: certifi>=2017.4.17 in /usr/local/lib/python3.11/dist-packages (from requests->transformers) (2025.7.9)\n",
            "Requirement already satisfied: zipp>=3.20 in /usr/local/lib/python3.11/dist-packages (from importlib-metadata>=5->cmudict->textstat) (3.23.0)\n"
          ]
        }
      ],
      "source": [
        "pip install transformers textstat nltk pandas scikit-learn tqdm"
      ]
    },
    {
      "cell_type": "code",
      "execution_count": null,
      "metadata": {
        "colab": {
          "base_uri": "https://localhost:8080/"
        },
        "id": "zwsmjJw3MQ08",
        "outputId": "5dc19652-e064-4c01-ba26-f49dcf2980f3"
      },
      "outputs": [
        {
          "name": "stderr",
          "output_type": "stream",
          "text": [
            "[nltk_data] Downloading package punkt to /root/nltk_data...\n",
            "[nltk_data]   Package punkt is already up-to-date!\n",
            "[nltk_data] Downloading package averaged_perceptron_tagger to\n",
            "[nltk_data]     /root/nltk_data...\n",
            "[nltk_data]   Package averaged_perceptron_tagger is already up-to-\n",
            "[nltk_data]       date!\n",
            "[nltk_data] Downloading package stopwords to /root/nltk_data...\n",
            "[nltk_data]   Package stopwords is already up-to-date!\n"
          ]
        }
      ],
      "source": [
        "import torch\n",
        "import nltk\n",
        "import pandas as pd\n",
        "import numpy as np\n",
        "import textstat\n",
        "import re\n",
        "from nltk import pos_tag, word_tokenize\n",
        "from nltk.corpus import stopwords\n",
        "from transformers import GPT2Tokenizer, GPT2LMHeadModel\n",
        "from tqdm import tqdm\n",
        "\n",
        "nltk.download('punkt')\n",
        "nltk.download('averaged_perceptron_tagger')\n",
        "nltk.download('stopwords')\n",
        "\n",
        "# Load GPT2 model\n",
        "tokenizer = GPT2Tokenizer.from_pretrained(\"gpt2\")\n",
        "model = GPT2LMHeadModel.from_pretrained(\"gpt2\")\n",
        "model.eval()\n",
        "\n",
        "stop_words = set(stopwords.words('english'))\n",
        "\n",
        "def get_perplexity(text):\n",
        "    try:\n",
        "        encodings = tokenizer(text, return_tensors='pt', truncation=True, max_length=512)\n",
        "        with torch.no_grad():\n",
        "            output = model(**encodings, labels=encodings['input_ids'])\n",
        "        loss = output.loss\n",
        "        return torch.exp(loss).item()\n",
        "    except:\n",
        "        return 100.0  # fallback\n",
        "\n",
        "def extract_features(text):\n",
        "    tokens = word_tokenize(text)\n",
        "    pos = pos_tag(tokens)\n",
        "    num_words = len(tokens)\n",
        "\n",
        "    stop_ratio = len([w for w in tokens if w.lower() in stop_words]) / (num_words + 1)\n",
        "    sent_len = len(tokens) / (text.count('.') + 1)\n",
        "    reading = textstat.flesch_reading_ease(text)\n",
        "    perplexity = get_perplexity(text)\n",
        "\n",
        "    pos_tags = [tag for word, tag in pos]\n",
        "    noun_ratio = pos_tags.count(\"NN\") / (num_words + 1)\n",
        "    verb_ratio = pos_tags.count(\"VB\") / (num_words + 1)\n",
        "\n",
        "    return [perplexity, reading, sent_len, stop_ratio, noun_ratio, verb_ratio]"
      ]
    },
    {
      "cell_type": "code",
      "execution_count": null,
      "metadata": {
        "colab": {
          "base_uri": "https://localhost:8080/"
        },
        "id": "VQkZ9T38MwyQ",
        "outputId": "7f92276e-dc17-46bf-d47e-76528d32c00b"
      },
      "outputs": [
        {
          "name": "stderr",
          "output_type": "stream",
          "text": [
            "[nltk_data] Downloading package averaged_perceptron_tagger_eng to\n",
            "[nltk_data]     /root/nltk_data...\n",
            "[nltk_data]   Package averaged_perceptron_tagger_eng is already up-to-\n",
            "[nltk_data]       date!\n"
          ]
        },
        {
          "data": {
            "text/plain": [
              "True"
            ]
          },
          "execution_count": 4,
          "metadata": {},
          "output_type": "execute_result"
        }
      ],
      "source": [
        "nltk.download('averaged_perceptron_tagger_eng')"
      ]
    },
    {
      "cell_type": "code",
      "execution_count": null,
      "metadata": {
        "colab": {
          "base_uri": "https://localhost:8080/"
        },
        "id": "FRCTPZh_Mjek",
        "outputId": "44a8913d-c4a4-4d4d-ec97-ef74555216ff"
      },
      "outputs": [
        {
          "name": "stderr",
          "output_type": "stream",
          "text": [
            "  0%|          | 0/2000 [00:00<?, ?it/s]`loss_type=None` was set in the config but it is unrecognised.Using the default loss: `ForCausalLMLoss`.\n",
            "100%|██████████| 2000/2000 [1:14:40<00:00,  2.24s/it]\n"
          ]
        }
      ],
      "source": [
        "df = pd.read_csv(\"sampled_ai_dataset.csv\")  # or .json\n",
        "features = []\n",
        "labels = []\n",
        "\n",
        "for _, row in tqdm(df.iterrows(), total=len(df)):\n",
        "    text = str(row['text'])\n",
        "    label = row['generated']\n",
        "    feat = extract_features(text)\n",
        "    features.append(feat)\n",
        "    labels.append(label)\n",
        "\n",
        "X = np.array(features)\n",
        "y = np.array(labels)"
      ]
    },
    {
      "cell_type": "code",
      "execution_count": null,
      "metadata": {
        "colab": {
          "base_uri": "https://localhost:8080/"
        },
        "id": "9e09SRVuijyz",
        "outputId": "f9581c6b-5aa9-44d7-af44-306166730072"
      },
      "outputs": [
        {
          "name": "stdout",
          "output_type": "stream",
          "text": [
            "Accuracy: 0.95\n",
            "              precision    recall  f1-score   support\n",
            "\n",
            "           0       0.95      0.98      0.96       253\n",
            "           1       0.96      0.90      0.93       147\n",
            "\n",
            "    accuracy                           0.95       400\n",
            "   macro avg       0.95      0.94      0.95       400\n",
            "weighted avg       0.95      0.95      0.95       400\n",
            "\n"
          ]
        }
      ],
      "source": [
        "from sklearn.ensemble import RandomForestClassifier\n",
        "from sklearn.model_selection import train_test_split\n",
        "from sklearn.metrics import classification_report, accuracy_score\n",
        "import joblib\n",
        "\n",
        "X_train, X_test, y_train, y_test = train_test_split(X, y, test_size=0.2, random_state=42)\n",
        "\n",
        "clf = RandomForestClassifier(n_estimators=200)\n",
        "clf.fit(X_train, y_train)\n",
        "\n",
        "y_pred = clf.predict(X_test)\n",
        "\n",
        "# Save the trained model to a file\n",
        "joblib.dump(clf, \"ai_detection_model.joblib\")\n",
        "\n",
        "print(\"Accuracy:\", accuracy_score(y_test, y_pred))\n",
        "print(classification_report(y_test, y_pred))"
      ]
    },
    {
      "cell_type": "code",
      "execution_count": null,
      "metadata": {
        "colab": {
          "base_uri": "https://localhost:8080/",
          "height": 472
        },
        "id": "IWhBTAHYj1hA",
        "outputId": "8aa9a96b-653b-40fb-c88f-b413d601a8d1"
      },
      "outputs": [
        {
          "data": {
            "image/png": "[encoded data removed]",
            "text/plain": [
              "<Figure size 640x480 with 1 Axes>"
            ]
          },
          "metadata": {},
          "output_type": "display_data"
        }
      ],
      "source": [
        "import matplotlib.pyplot as plt\n",
        "\n",
        "importances = clf.feature_importances_\n",
        "labels = ['Perplexity', 'Readability', 'SentenceLen', 'StopwordRatio', 'NounRatio', 'VerbRatio']\n",
        "plt.barh(labels, importances)\n",
        "plt.xlabel(\"Importance\")\n",
        "plt.title(\"Feature Importances\")\n",
        "plt.show()"
      ]
    },
    {
      "cell_type": "code",
      "execution_count": null,
      "metadata": {
        "id": "ad9f-HhLixmI"
      },
      "outputs": [],
      "source": [
        "def predict_ai(text):\n",
        "    features = extract_features(text)\n",
        "    prediction = clf.predict([features])[0]\n",
        "    return \"AI-Generated\" if prediction == 1 else \"Human-Written\""
      ]
    },
    {
      "cell_type": "code",
      "execution_count": null,
      "metadata": {
        "colab": {
          "base_uri": "https://localhost:8080/"
        },
        "id": "LI1G_GIvlkj4",
        "outputId": "987919fc-6c14-4313-fe0a-4ad34beba0d3"
      },
      "outputs": [
        {
          "name": "stdout",
          "output_type": "stream",
          "text": [
            "Collecting pyngrok\n",
            "  Downloading pyngrok-7.2.12-py3-none-any.whl.metadata (9.4 kB)\n",
            "Requirement already satisfied: PyYAML>=5.1 in /usr/local/lib/python3.11/dist-packages (from pyngrok) (6.0.2)\n",
            "Downloading pyngrok-7.2.12-py3-none-any.whl (26 kB)\n",
            "Installing collected packages: pyngrok\n",
            "Successfully installed pyngrok-7.2.12\n"
          ]
        }
      ],
      "source": [
        "!pip install pyngrok"
      ]
    },
    {
      "cell_type": "code",
      "execution_count": null,
      "metadata": {
        "colab": {
          "base_uri": "https://localhost:8080/"
        },
        "id": "J2Im_jHwlaTZ",
        "outputId": "3ee419c2-7624-446a-f678-d9eb7af49e1e"
      },
      "outputs": [
        {
          "name": "stdout",
          "output_type": "stream",
          "text": [
            " * Ngrok tunnel URL: NgrokTunnel: \"https://bcd17353b456.ngrok-free.app\" -> \"http://localhost:5000\"\n",
            " * Serving Flask app '__main__'\n",
            " * Debug mode: off\n"
          ]
        },
        {
          "name": "stderr",
          "output_type": "stream",
          "text": [
            "[nltk_data] Downloading package punkt to /root/nltk_data...\n",
            "[nltk_data]   Package punkt is already up-to-date!\n",
            "[nltk_data] Downloading package averaged_perceptron_tagger to\n",
            "[nltk_data]     /root/nltk_data...\n",
            "[nltk_data]   Package averaged_perceptron_tagger is already up-to-\n",
            "[nltk_data]       date!\n",
            "[nltk_data] Downloading package stopwords to /root/nltk_data...\n",
            "[nltk_data]   Package stopwords is already up-to-date!\n",
            "INFO:werkzeug:\u001b[31m\u001b[1mWARNING: This is a development server. Do not use it in a production deployment. Use a production WSGI server instead.\u001b[0m\n",
            " * Running on http://127.0.0.1:5000\n",
            "INFO:werkzeug:\u001b[33mPress CTRL+C to quit\u001b[0m\n",
            "INFO:werkzeug:127.0.0.1 - - [16/Jul/2025 10:23:49] \"POST /detect-ai/ HTTP/1.1\" 200 -\n",
            "WARNING:pyngrok.process.ngrok:t=2025-07-16T10:30:22+0000 lvl=warn msg=\"Stopping forwarder\" name=http-5000-fa54ee88-e431-4143-b3b1-83009efa9cc8 acceptErr=\"failed to accept connection: Listener closed\"\n"
          ]
        }
      ],
      "source": [
        "from flask import Flask, request, jsonify\n",
        "from pyngrok import ngrok, conf\n",
        "from nltk import word_tokenize, pos_tag\n",
        "from nltk.corpus import stopwords\n",
        "from transformers import GPT2Tokenizer, GPT2LMHeadModel\n",
        "from dotenv import load_dotenv\n",
        "import torch, textstat, re\n",
        "import os\n",
        "import numpy as np\n",
        "import nltk\n",
        "\n",
        "load_dotenv()\n",
        "\n",
        "# Initialize Flask app\n",
        "app = Flask(__name__)\n",
        "\n",
        "conf.get_default().auth_token = os.getenv(\"NGROK_AUTH_TOKEN\")\n",
        "\n",
        "# Start ngrok tunnel\n",
        "public_url = ngrok.connect(5000)\n",
        "print(f\" * Ngrok tunnel URL: {public_url}\")\n",
        "\n",
        "# Load model\n",
        "from joblib import load\n",
        "clf = load(\"ai_detection_model.joblib\")  # Your trained model file\n",
        "\n",
        "# Load GPT-2 and tokenizer\n",
        "tokenizer = GPT2Tokenizer.from_pretrained(\"gpt2\")\n",
        "gpt2_model = GPT2LMHeadModel.from_pretrained(\"gpt2\")\n",
        "gpt2_model.eval()\n",
        "\n",
        "# Setup NLTK\n",
        "nltk.download('punkt')\n",
        "nltk.download('averaged_perceptron_tagger')\n",
        "nltk.download('stopwords')\n",
        "stop_words = set(stopwords.words('english'))\n",
        "\n",
        "# --- Utility Functions ---\n",
        "\n",
        "def get_perplexity(text):\n",
        "    try:\n",
        "        encodings = tokenizer(text, return_tensors='pt', truncation=True, max_length=512)\n",
        "        with torch.no_grad():\n",
        "            output = gpt2_model(**encodings, labels=encodings['input_ids'])\n",
        "        return torch.exp(output.loss).item()\n",
        "    except:\n",
        "        return 100.0  # default high perplexity\n",
        "\n",
        "def extract_features(text):\n",
        "    tokens = word_tokenize(text)\n",
        "    pos = pos_tag(tokens)\n",
        "    num_words = len(tokens) + 1\n",
        "\n",
        "    stop_ratio = len([w for w in tokens if w.lower() in stop_words]) / num_words\n",
        "    sent_len = len(tokens) / (text.count('.') + 1)\n",
        "    reading = textstat.flesch_reading_ease(text)\n",
        "    perplexity = get_perplexity(text)\n",
        "\n",
        "    pos_tags = [tag for word, tag in pos]\n",
        "    noun_ratio = pos_tags.count(\"NN\") / num_words\n",
        "    verb_ratio = pos_tags.count(\"VB\") / num_words\n",
        "\n",
        "    return [perplexity, reading, sent_len, stop_ratio, noun_ratio, verb_ratio]\n",
        "\n",
        "def split_sentences(text):\n",
        "    cleaned = re.sub(r'\\s+', ' ', text.strip())\n",
        "    sentences = re.split(r'[.!?]', cleaned)\n",
        "    return [s.strip() for s in sentences if s.strip()]\n",
        "\n",
        "# --- Flask Routes ---\n",
        "\n",
        "@app.route(\"/detect-ai/\", methods=[\"POST\"])\n",
        "def detect_ai():\n",
        "    data = request.get_json()\n",
        "    text = data.get(\"text\", \"\")\n",
        "    if not text:\n",
        "        return jsonify({\"error\": \"No input text provided\"}), 400\n",
        "\n",
        "    sentences = split_sentences(text)\n",
        "    ai_sentences = []\n",
        "\n",
        "    for sentence in sentences:\n",
        "        features = extract_features(sentence)\n",
        "        prediction = clf.predict([features])[0]\n",
        "        if prediction == 1:\n",
        "            ai_sentences.append(sentence)\n",
        "\n",
        "    percentage = round(len(ai_sentences) / len(sentences) * 100, 2) if sentences else 0.0\n",
        "\n",
        "    return jsonify({\n",
        "        \"total_sentences\": len(sentences),\n",
        "        \"ai_sentences_count\": len(ai_sentences),\n",
        "        \"ai_percentage\": percentage,\n",
        "        \"ai_sentences\": ai_sentences\n",
        "    })\n",
        "\n",
        "# Start the Flask app\n",
        "app.run()"
      ]
    },
    {
      "cell_type": "code",
      "execution_count": null,
      "metadata": {
        "colab": {
          "base_uri": "https://localhost:8080/"
        },
        "id": "Iekys1SqE7J8",
        "outputId": "36b8e125-ee71-486d-c0c9-2f0190f502e1"
      },
      "outputs": [
        {
          "name": "stdout",
          "output_type": "stream",
          "text": [
            "Requirement already satisfied: google-generativeai in /usr/local/lib/python3.11/dist-packages (0.8.5)\n",
            "Requirement already satisfied: google-ai-generativelanguage==0.6.15 in /usr/local/lib/python3.11/dist-packages (from google-generativeai) (0.6.15)\n",
            "Requirement already satisfied: google-api-core in /usr/local/lib/python3.11/dist-packages (from google-generativeai) (2.25.1)\n",
            "Requirement already satisfied: google-api-python-client in /usr/local/lib/python3.11/dist-packages (from google-generativeai) (2.176.0)\n",
            "Requirement already satisfied: google-auth>=2.15.0 in /usr/local/lib/python3.11/dist-packages (from google-generativeai) (2.38.0)\n",
            "Requirement already satisfied: protobuf in /usr/local/lib/python3.11/dist-packages (from google-generativeai) (5.29.5)\n",
            "Requirement already satisfied: pydantic in /usr/local/lib/python3.11/dist-packages (from google-generativeai) (2.11.7)\n",
            "Requirement already satisfied: tqdm in /usr/local/lib/python3.11/dist-packages (from google-generativeai) (4.67.1)\n",
            "Requirement already satisfied: typing-extensions in /usr/local/lib/python3.11/dist-packages (from google-generativeai) (4.14.1)\n",
            "Requirement already satisfied: proto-plus<2.0.0dev,>=1.22.3 in /usr/local/lib/python3.11/dist-packages (from google-ai-generativelanguage==0.6.15->google-generativeai) (1.26.1)\n",
            "Requirement already satisfied: googleapis-common-protos<2.0.0,>=1.56.2 in /usr/local/lib/python3.11/dist-packages (from google-api-core->google-generativeai) (1.70.0)\n",
            "Requirement already satisfied: requests<3.0.0,>=2.18.0 in /usr/local/lib/python3.11/dist-packages (from google-api-core->google-generativeai) (2.32.3)\n",
            "Requirement already satisfied: cachetools<6.0,>=2.0.0 in /usr/local/lib/python3.11/dist-packages (from google-auth>=2.15.0->google-generativeai) (5.5.2)\n",
            "Requirement already satisfied: pyasn1-modules>=0.2.1 in /usr/local/lib/python3.11/dist-packages (from google-auth>=2.15.0->google-generativeai) (0.4.2)\n",
            "Requirement already satisfied: rsa<5,>=3.1.4 in /usr/local/lib/python3.11/dist-packages (from google-auth>=2.15.0->google-generativeai) (4.9.1)\n",
            "Requirement already satisfied: httplib2<1.0.0,>=0.19.0 in /usr/local/lib/python3.11/dist-packages (from google-api-python-client->google-generativeai) (0.22.0)\n",
            "Requirement already satisfied: google-auth-httplib2<1.0.0,>=0.2.0 in /usr/local/lib/python3.11/dist-packages (from google-api-python-client->google-generativeai) (0.2.0)\n",
            "Requirement already satisfied: uritemplate<5,>=3.0.1 in /usr/local/lib/python3.11/dist-packages (from google-api-python-client->google-generativeai) (4.2.0)\n",
            "Requirement already satisfied: annotated-types>=0.6.0 in /usr/local/lib/python3.11/dist-packages (from pydantic->google-generativeai) (0.7.0)\n",
            "Requirement already satisfied: pydantic-core==2.33.2 in /usr/local/lib/python3.11/dist-packages (from pydantic->google-generativeai) (2.33.2)\n",
            "Requirement already satisfied: typing-inspection>=0.4.0 in /usr/local/lib/python3.11/dist-packages (from pydantic->google-generativeai) (0.4.1)\n",
            "Requirement already satisfied: grpcio<2.0.0,>=1.33.2 in /usr/local/lib/python3.11/dist-packages (from google-api-core[grpc]!=2.0.*,!=2.1.*,!=2.10.*,!=2.2.*,!=2.3.*,!=2.4.*,!=2.5.*,!=2.6.*,!=2.7.*,!=2.8.*,!=2.9.*,<3.0.0dev,>=1.34.1->google-ai-generativelanguage==0.6.15->google-generativeai) (1.73.1)\n",
            "Requirement already satisfied: grpcio-status<2.0.0,>=1.33.2 in /usr/local/lib/python3.11/dist-packages (from google-api-core[grpc]!=2.0.*,!=2.1.*,!=2.10.*,!=2.2.*,!=2.3.*,!=2.4.*,!=2.5.*,!=2.6.*,!=2.7.*,!=2.8.*,!=2.9.*,<3.0.0dev,>=1.34.1->google-ai-generativelanguage==0.6.15->google-generativeai) (1.71.2)\n",
            "Requirement already satisfied: pyparsing!=3.0.0,!=3.0.1,!=3.0.2,!=3.0.3,<4,>=2.4.2 in /usr/local/lib/python3.11/dist-packages (from httplib2<1.0.0,>=0.19.0->google-api-python-client->google-generativeai) (3.2.3)\n",
            "Requirement already satisfied: pyasn1<0.7.0,>=0.6.1 in /usr/local/lib/python3.11/dist-packages (from pyasn1-modules>=0.2.1->google-auth>=2.15.0->google-generativeai) (0.6.1)\n",
            "Requirement already satisfied: charset-normalizer<4,>=2 in /usr/local/lib/python3.11/dist-packages (from requests<3.0.0,>=2.18.0->google-api-core->google-generativeai) (3.4.2)\n",
            "Requirement already satisfied: idna<4,>=2.5 in /usr/local/lib/python3.11/dist-packages (from requests<3.0.0,>=2.18.0->google-api-core->google-generativeai) (3.10)\n",
            "Requirement already satisfied: urllib3<3,>=1.21.1 in /usr/local/lib/python3.11/dist-packages (from requests<3.0.0,>=2.18.0->google-api-core->google-generativeai) (2.4.0)\n",
            "Requirement already satisfied: certifi>=2017.4.17 in /usr/local/lib/python3.11/dist-packages (from requests<3.0.0,>=2.18.0->google-api-core->google-generativeai) (2025.7.9)\n"
          ]
        }
      ],
      "source": [
        "pip install google-generativeai"
      ]
    },
    {
      "cell_type": "code",
      "execution_count": null,
      "metadata": {
        "colab": {
          "base_uri": "https://localhost:8080/"
        },
        "id": "Kjf1Zn8tv8-O",
        "outputId": "60a0a5c6-dc06-4b8c-88c7-fa4b2231322c"
      },
      "outputs": [
        {
          "name": "stdout",
          "output_type": "stream",
          "text": [
            " * Ngrok tunnel URL: NgrokTunnel: \"https://4b59339ddd95.ngrok-free.app\" -> \"http://localhost:5000\"\n"
          ]
        },
        {
          "name": "stderr",
          "output_type": "stream",
          "text": [
            "Device set to use cpu\n",
            "[nltk_data] Downloading package punkt to /root/nltk_data...\n",
            "[nltk_data]   Package punkt is already up-to-date!\n",
            "[nltk_data] Downloading package averaged_perceptron_tagger to\n",
            "[nltk_data]     /root/nltk_data...\n",
            "[nltk_data]   Package averaged_perceptron_tagger is already up-to-\n",
            "[nltk_data]       date!\n",
            "[nltk_data] Downloading package stopwords to /root/nltk_data...\n",
            "[nltk_data]   Package stopwords is already up-to-date!\n",
            "\u001b[33m * Tip: There are .env files present. Install python-dotenv to use them.\u001b[0m\n"
          ]
        },
        {
          "name": "stdout",
          "output_type": "stream",
          "text": [
            " * Serving Flask app '__main__'\n",
            " * Debug mode: off\n"
          ]
        },
        {
          "name": "stderr",
          "output_type": "stream",
          "text": [
            "INFO:werkzeug:\u001b[31m\u001b[1mWARNING: This is a development server. Do not use it in a production deployment. Use a production WSGI server instead.\u001b[0m\n",
            " * Running on http://127.0.0.1:5000\n",
            "INFO:werkzeug:\u001b[33mPress CTRL+C to quit\u001b[0m\n"
          ]
        },
        {
          "name": "stdout",
          "output_type": "stream",
          "text": [
            "Rewrite error: HTTPConnectionPool(host='localhost', port=36737): Read timed out. (read timeout=600.0)\n"
          ]
        }
      ],
      "source": [
        "from flask import Flask, request, jsonify\n",
        "from pyngrok import ngrok, conf\n",
        "from nltk import word_tokenize, pos_tag\n",
        "from nltk.corpus import stopwords\n",
        "from transformers import GPT2Tokenizer, GPT2LMHeadModel, pipeline, set_seed\n",
        "import google.generativeai as genai\n",
        "import torch, textstat, re\n",
        "import numpy as np\n",
        "import os\n",
        "import nltk\n",
        "from joblib import load\n",
        "\n",
        "# Initialize Flask app\n",
        "app = Flask(__name__)\n",
        "\n",
        "# Ngrok authentication\n",
        "conf.get_default().auth_token = os.getenv(\"NGROK_AUTH_TOKEN\")\n",
        "public_url = ngrok.connect(5000)\n",
        "print(f\" * Ngrok tunnel URL: {public_url}\")\n",
        "\n",
        "# Load trained model\n",
        "clf = load(\"ai_detection_model.joblib\")\n",
        "\n",
        "# Load GPT-2 tokenizer and model\n",
        "tokenizer = GPT2Tokenizer.from_pretrained(\"gpt2\")\n",
        "gpt2_model = GPT2LMHeadModel.from_pretrained(\"gpt2\")\n",
        "gpt2_model.eval()\n",
        "\n",
        "# Load Gemini Api key into model\n",
        "GEMINI_API_KEY = os.getenv(\"GEMINI_API_KEY\")\n",
        "genai.configure(api_key=GEMINI_API_KEY)\n",
        "\n",
        "# Humanizer using text-generation model (can use gpt2 or distilgpt2)\n",
        "humanizer = pipeline(\"text-generation\", model=\"gpt2\", tokenizer=\"gpt2\")\n",
        "set_seed(42)\n",
        "\n",
        "# Setup NLTK\n",
        "nltk.download('punkt')\n",
        "nltk.download('averaged_perceptron_tagger')\n",
        "nltk.download('stopwords')\n",
        "stop_words = set(stopwords.words('english'))\n",
        "\n",
        "# --- Utility Functions ---\n",
        "\n",
        "def get_perplexity(text):\n",
        "    try:\n",
        "        encodings = tokenizer(text, return_tensors='pt', truncation=True, max_length=512)\n",
        "        with torch.no_grad():\n",
        "            output = gpt2_model(**encodings, labels=encodings['input_ids'])\n",
        "        return torch.exp(output.loss).item()\n",
        "    except:\n",
        "        return 100.0\n",
        "\n",
        "def extract_features(text):\n",
        "    tokens = word_tokenize(text)\n",
        "    pos = pos_tag(tokens)\n",
        "    num_words = len(tokens) + 1\n",
        "    stop_ratio = len([w for w in tokens if w.lower() in stop_words]) / num_words\n",
        "    sent_len = len(tokens) / (text.count('.') + 1)\n",
        "    reading = textstat.flesch_reading_ease(text)\n",
        "    perplexity = get_perplexity(text)\n",
        "    pos_tags = [tag for _, tag in pos]\n",
        "    noun_ratio = pos_tags.count(\"NN\") / num_words\n",
        "    verb_ratio = pos_tags.count(\"VB\") / num_words\n",
        "\n",
        "    return [perplexity, reading, sent_len, stop_ratio, noun_ratio, verb_ratio]\n",
        "\n",
        "def split_sentences(text):\n",
        "    cleaned = re.sub(r'\\s+', ' ', text.strip())\n",
        "    sentences = re.split(r'[.!?]', cleaned)\n",
        "    return [s.strip() for s in sentences if s.strip()]\n",
        "\n",
        "\n",
        "def rewrite_sentence(sentence):\n",
        "    prompt = f\"Rewrite the following sentence so it sounds more natural, personal, and written by a human:\\n\\n\\\"{sentence}\\\"\"\n",
        "\n",
        "    try:\n",
        "        model = genai.GenerativeModel(\"gemini-pro\")\n",
        "        response = model.generate_content(prompt)\n",
        "        rewritten = response.text.strip()\n",
        "\n",
        "        # Basic cleanup: remove prompt echo or quotes\n",
        "        if rewritten.startswith('\"') and rewritten.endswith('\"'):\n",
        "            rewritten = rewritten[1:-1].strip()\n",
        "\n",
        "        return rewritten if len(rewritten) > 5 else sentence\n",
        "    except Exception as e:\n",
        "        print(f\"Rewrite error: {e}\")\n",
        "        return sentence\n",
        "\n",
        "\n",
        "# --- API Route ---\n",
        "\n",
        "@app.route(\"/check-ai/\", methods=[\"POST\"])\n",
        "def detect_ai():\n",
        "    data = request.get_json()\n",
        "    text = data.get(\"text\", \"\")\n",
        "    if not text:\n",
        "        return jsonify({\"error\": \"No input text provided\"}), 400\n",
        "\n",
        "    sentences = split_sentences(text)\n",
        "    ai_sentences = []\n",
        "    borderline_sentences = []\n",
        "    results = []\n",
        "\n",
        "    for sentence in sentences:\n",
        "        features = extract_features(sentence)\n",
        "        prob = clf.predict_proba([features])[0][1]\n",
        "\n",
        "        label = \"AI-Generated\" if prob >= 0.65 else \"Human-Written\"\n",
        "        if prob >= 0.65:\n",
        "            ai_sentences.append(sentence)\n",
        "        elif 0.4 < prob < 0.65:\n",
        "            borderline_sentences.append(sentence)\n",
        "\n",
        "        results.append({\n",
        "            \"sentence\": sentence,\n",
        "            \"ai_probability\": round(prob, 2),\n",
        "            \"label\": label\n",
        "        })\n",
        "\n",
        "    ai_percentage = round(len(ai_sentences) / len(sentences) * 100, 2) if sentences else 0.0\n",
        "\n",
        "    return jsonify({\n",
        "        \"total_sentences\": len(sentences),\n",
        "        \"ai_sentences_count\": len(ai_sentences),\n",
        "        \"ai_percentage\": ai_percentage,\n",
        "        \"ai_sentences\": ai_sentences,\n",
        "        \"borderline_sentences\": borderline_sentences,\n",
        "        \"sentence_predictions\": results\n",
        "    })\n",
        "\n",
        "@app.route(\"/humanize/\", methods=[\"POST\"])\n",
        "def humanize_text():\n",
        "    data = request.get_json()\n",
        "    text = data.get(\"text\", \"\")\n",
        "    if not text:\n",
        "        return jsonify({\"error\": \"No input text provided\"}), 400\n",
        "\n",
        "    sentences = [s.strip() for s in split_sentences(text) if s.strip()]\n",
        "    ai_sentences = []\n",
        "    rewritten_sentences = []\n",
        "\n",
        "    for sentence in sentences:\n",
        "        features = extract_features(sentence)\n",
        "        prediction = clf.predict([features])[0]\n",
        "\n",
        "        if prediction == 1:\n",
        "            ai_sentences.append(sentence)\n",
        "\n",
        "        rewritten = rewrite_sentence(sentence)\n",
        "        rewritten_sentences.append(rewritten)\n",
        "\n",
        "    return jsonify({\n",
        "        \"total_sentences\": len(sentences),\n",
        "        \"ai_sentences_count\": len(ai_sentences),\n",
        "        \"original_ai_sentences\": ai_sentences,\n",
        "        \"modified_text\": \" \".join(s + \".\" for s in rewritten_sentences),\n",
        "        \"rewrites\": [{\"original\": o, \"rewritten\": r} for o, r in zip(sentences, rewritten_sentences)]\n",
        "    })\n",
        "\n",
        "# Start the Flask app\n",
        "app.run()"
      ]
    }
  ],
  "metadata": {
    "colab": {
      "provenance": []
    },
    "kernelspec": {
      "display_name": "Python 3",
      "name": "python3"
    },
    "language_info": {
      "name": "python"
    }
  },
  "nbformat": 4,
  "nbformat_minor": 0
}
